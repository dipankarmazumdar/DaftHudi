{
 "cells": [
  {
   "cell_type": "code",
   "execution_count": null,
   "id": "688e44dc",
   "metadata": {},
   "outputs": [],
   "source": [
    "# Apache Hudi-PySpark Configuration\n",
    "\n",
    "from typing import *\n",
    "\n",
    "from pyspark import Row\n",
    "from pyspark.sql import SparkSession\n",
    "from pyspark.sql.functions import col\n",
    "\n",
    "# Initialize Spark session\n",
    "spark = SparkSession.builder \\\n",
    "    .appName(\"Hudi Table\") \\\n",
    "    .config(\"spark.serializer\", \"org.apache.spark.serializer.KryoSerializer\") \\\n",
    "    .config(\"spark.jars.packages\", \"org.apache.hudi:hudi-spark3.4-bundle_2.12:0.14.0,org.apache.hadoop:hadoop-aws:3.2.4,com.amazonaws:aws-java-sdk:1.12.262\") \\\n",
    "    .config(\"spark.sql.catalog.spark_catalog\", \"org.apache.spark.sql.hudi.catalog.HoodieCatalog\") \\\n",
    "    .config(\"spark.sql.extensions\", \"org.apache.spark.sql.hudi.HoodieSparkSessionExtension\") \\\n",
    "    .config(\"spark.hadoop.fs.s3a.aws.credentials.provider\", \"com.amazonaws.auth.profile.ProfileCredentialsProvider\") \\\n",
    "    .config(\"spark.hadoop.fs.s3a.path.style.access\", \"true\") \\\n",
    "    .config(\"spark.hadoop.fs.s3a.impl\", \"org.apache.hadoop.fs.s3a.S3AFileSystem\") \\\n",
    "    .getOrCreate()\n",
    "\n",
    "print(\"Spark Running\")\n",
    "\n",
    "s3_path = \"s3a://my-bucket/sandbox/daft_hudi/\"\n",
    "\n",
    "# Access SparkContext\n",
    "sc = spark.sparkContext"
   ]
  },
  {
   "cell_type": "code",
   "execution_count": null,
   "id": "bef42d17",
   "metadata": {},
   "outputs": [],
   "source": [
    "# Create Hudi Table in S3 using source data \n",
    "\n",
    "TABLE_NAME = 'aldi_data'\n",
    "INPUT = 's3a://my-bucket/input/retail/All_Data_Aldi.csv'\n",
    "df_cow = spark.read.csv(INPUT, header=True, inferSchema=True)\n",
    "\n",
    "# Minor Transformation\n",
    "df_cow = df_cow.withColumnRenamed('prices_(¬£)', 'prices')\n",
    "df_cow = df_cow.withColumnRenamed('prices_unit_(¬£)', 'prices_unit')\n",
    "\n",
    "# Write the Records \n",
    "PATH = 's3a://my-bucket/sandbox/daft_hudi/'\n",
    "\n",
    "hudi_options = {\n",
    "        'hoodie.table.name': TABLE_NAME,\n",
    "        'hoodie.table.keygenerator.class' : \"org.apache.hudi.keygen.SimpleKeyGenerator\",\n",
    "        'hoodie.datasource.write.hive_style_partitioning' : \"false\",\n",
    "  'hoodie.datasource.write.partitionpath.field' : \"category\" \n",
    "    }\n",
    "\n",
    "spark.sql(\"DROP TABLE IF EXISTS \" + TABLE_NAME)\n",
    "df_cow.write.format(\"hudi\").mode(\"overwrite\").options(**hudi_options).mode(\"overwrite\").save(PATH)"
   ]
  }
 ],
 "metadata": {
  "kernelspec": {
   "display_name": "Python 3 (ipykernel)",
   "language": "python",
   "name": "python3"
  },
  "language_info": {
   "codemirror_mode": {
    "name": "ipython",
    "version": 3
   },
   "file_extension": ".py",
   "mimetype": "text/x-python",
   "name": "python",
   "nbconvert_exporter": "python",
   "pygments_lexer": "ipython3",
   "version": "3.11.5"
  }
 },
 "nbformat": 4,
 "nbformat_minor": 5
}
